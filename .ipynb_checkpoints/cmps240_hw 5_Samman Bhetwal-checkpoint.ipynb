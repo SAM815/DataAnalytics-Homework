{
 "cells": [
  {
   "cell_type": "markdown",
   "id": "120e01bf",
   "metadata": {},
   "source": [
    "### Question number 1"
   ]
  },
  {
   "cell_type": "markdown",
   "id": "1e372f3a",
   "metadata": {},
   "source": [
    "Data visualization is important in data analysis because of the following reasons:\n",
    "* It helps to make complex data more accessible and understandable. \n",
    "* It reveals patterns and trends that may not be immediately obvious in raw data, aiding in decision-making. \n",
    "* It allows analysts to convey insights and findings in a clear and concise manner.\n"
   ]
  },
  {
   "cell_type": "markdown",
   "id": "9121ee1c",
   "metadata": {},
   "source": [
    "### Question number 2"
   ]
  },
  {
   "cell_type": "markdown",
   "id": "032ede88",
   "metadata": {},
   "source": [
    "The three graphs used in statistical studies to describe the distribution of samples are:\n",
    "* Box plot: It shows the distribution of data based on five summary statistics: minimum, first quartile, median, third quartile, and maximum. It displays the range and distribution of the data and can highlight any potential outliers or skewness.\n",
    "* Scatter plot: It shows the relationship between two continuous variables displaying each observation as a point which can be used to identify any patterns or correlations in the data.\n",
    "* Density plot: It shows the distribution of continuous data as a smooth curve providing a visual representation of the data’s probability density function and is useful for comparing distributions.\n",
    "\n",
    "\n",
    "    \n"
   ]
  },
  {
   "cell_type": "markdown",
   "id": "fa9e461c",
   "metadata": {},
   "source": [
    "### Question number 3\n"
   ]
  },
  {
   "cell_type": "markdown",
   "id": "71e277a4",
   "metadata": {},
   "source": [
    "The difference between a histogram and a bar chart are: \n",
    " \n",
    "A bar chart displays a categorical data set in relation to a numerical data set. For example, Consider a bar graph\n",
    "where the x-axis represents the year of college (freshman, sophomore, junior, or senior) and the\n",
    "y-axis represents the amount of hours studied per week. It is employed to quantify the quantity in\n",
    "a categorical dataset.\n",
    "\n",
    "A histogram is a diagram that displays the connection between two numerical variables. It is\n",
    "employed to display how data are distributed. For example, the number of students achieving a\n",
    "particular GPA on the y-axis and the GPA of college students on the X-axis.\n",
    "\n"
   ]
  },
  {
   "cell_type": "markdown",
   "id": "4fd6edce",
   "metadata": {},
   "source": [
    "### Question number 4\n"
   ]
  },
  {
   "cell_type": "markdown",
   "id": "a0828280",
   "metadata": {},
   "source": [
    "#### Question number 4 a)"
   ]
  },
  {
   "cell_type": "code",
   "execution_count": null,
   "id": "f93a2edb",
   "metadata": {},
   "outputs": [],
   "source": [
    "import pandas as pd\n",
    "import matplotlib.pyplot as plt\n",
    "url = 'http://becomingvisual.com/python4data/timeseries_stockprice.csv'\n",
    "stock_data = pd.read_csv(url)\n",
    "stock_data.tail()\n"
   ]
  }
 ],
 "metadata": {
  "kernelspec": {
   "display_name": "Python 3 (ipykernel)",
   "language": "python",
   "name": "python3"
  },
  "language_info": {
   "codemirror_mode": {
    "name": "ipython",
    "version": 3
   },
   "file_extension": ".py",
   "mimetype": "text/x-python",
   "name": "python",
   "nbconvert_exporter": "python",
   "pygments_lexer": "ipython3",
   "version": "3.9.13"
  }
 },
 "nbformat": 4,
 "nbformat_minor": 5
}
