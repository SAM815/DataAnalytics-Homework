{
 "cells": [
  {
   "cell_type": "markdown",
   "id": "56c4ccb7",
   "metadata": {},
   "source": [
    "Question number 1:\n",
    "a) Nominal.\n",
    "b) Ordinal\n",
    "c) Interval\n",
    "d) Interval\n",
    "\n"
   ]
  },
  {
   "cell_type": "markdown",
   "id": "500f621c",
   "metadata": {},
   "source": [
    "Question number 2: \n",
    "\n",
    "Qualitative Analysis\n",
    "- This type of data analysis deals with values that are expressed through descriptions in natural language.\n",
    "- Makes use of textual, visual and audio data\n",
    "- Makes conclusions that are more subjective.\n",
    "- Examples: Case studies i.e. the studies or investigations of a particular person, or group of people. Podcasts, newscasts, speeches, or other recorded contents.\n",
    "                                 \n",
    "Quantitative Analysis\n",
    "- deals with data with a logical order or that can be categorized in some way.\n",
    "- More objective conclusions.\n",
    "- Makes use of Numerical and categorical data.\n",
    "- Examples: Closed-ended questionnaires and surveys, Historical financial reports.\n",
    "\n"
   ]
  },
  {
   "cell_type": "markdown",
   "id": "8c5d62a5",
   "metadata": {},
   "source": [
    "Question number 3: discuss data analysis process\n",
    "\n",
    "- Identify the problem and the data you need to solve the problem. \n",
    "- Gather and import the data you need for your analysis. \n",
    "- Clean and prepare the data for analysis by handling missing values and outliers. \n",
    "- Now, it's time to analyze the data using visualizations and statistics. This will help the data scientist to gain a deeper      understanding of the data and identify patterns and relationships. \n",
    "- Next, Choose and apply appropriate statistical or machine learning models to analyze the data and make predictions. \n",
    "- Now it's time to evaluate the accuracy and reliability of our models and make any necessary adjustments.\n",
    "- Next step is to communicate the findings and insights effectively, including visualizations, tables, and reports.\n",
    "- Finally deploy the model and monitor their performance over time to ensure they continue to deliver value.\n",
    "\n"
   ]
  },
  {
   "cell_type": "code",
   "execution_count": 2,
   "id": "2738b957",
   "metadata": {},
   "outputs": [
    {
     "name": "stdout",
     "output_type": "stream",
     "text": [
      "Enter the radius: 2\n",
      "The volume of the sphere is  100.53096491487338\n"
     ]
    }
   ],
   "source": [
    "#Question number 4: \n",
    "import math\n",
    "r = int(input(\"Enter the radius: \"))\n",
    "volume = 4 * (math.pi) * (r**3)\n",
    "print(\"The volume of the sphere is \", volume)"
   ]
  },
  {
   "cell_type": "code",
   "execution_count": 12,
   "id": "6b0dc7c5",
   "metadata": {},
   "outputs": [
    {
     "name": "stdout",
     "output_type": "stream",
     "text": [
      "Enter integer input1: 12\n",
      "Enter integer input2: 4\n",
      "12  +  4  =  16\n",
      "12  -  4  =  8\n",
      "12  *  4  =  48\n",
      "12  /  4  =  3.0\n"
     ]
    }
   ],
   "source": [
    "a1 = int(input(\"Enter integer input1: \"))\n",
    "a2 = int(input(\"Enter integer input2: \"))\n",
    "\n",
    "print( str(a1), \" + \", str(a2), \" = \", str(a1 + a2))\n",
    "print(str(a1), \" - \", str(a2), \" = \", str(a1 - a2))\n",
    "print( str(a1), \" * \", str(a2), \" = \", str(a1 * a2))\n",
    "print( str(a1), \" / \", str(a2), \" = \", str(a1 / a2))\n",
    "\n"
   ]
  },
  {
   "cell_type": "code",
   "execution_count": null,
   "id": "b3f065d8",
   "metadata": {},
   "outputs": [],
   "source": []
  }
 ],
 "metadata": {
  "kernelspec": {
   "display_name": "Python 3 (ipykernel)",
   "language": "python",
   "name": "python3"
  },
  "language_info": {
   "codemirror_mode": {
    "name": "ipython",
    "version": 3
   },
   "file_extension": ".py",
   "mimetype": "text/x-python",
   "name": "python",
   "nbconvert_exporter": "python",
   "pygments_lexer": "ipython3",
   "version": "3.9.13"
  }
 },
 "nbformat": 4,
 "nbformat_minor": 5
}
