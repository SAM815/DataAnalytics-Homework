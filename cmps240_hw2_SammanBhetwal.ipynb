{
 "cells": [
  {
   "cell_type": "markdown",
   "id": "ec64e7de",
   "metadata": {},
   "source": [
    "# Question number 1 \n",
    "\n",
    "\n"
   ]
  },
  {
   "cell_type": "code",
   "execution_count": 1,
   "id": "bc697ca6",
   "metadata": {},
   "outputs": [
    {
     "name": "stdout",
     "output_type": "stream",
     "text": [
      "Enter the country name: india\n",
      "Enter the population: 300000\n",
      "Enter the Square Mile: 300\n",
      "The country is india\n",
      "The Population is  300000\n",
      "The squareMile is  300\n",
      "The density is  1000.0\n"
     ]
    }
   ],
   "source": [
    "class Country():\n",
    "    def __init__(self, CName, CPopulation, SqMile):\n",
    "        self.CName = CName\n",
    "        self.CPopulation = CPopulation\n",
    "        self.SqMile = SqMile\n",
    "\n",
    "    def Density(self):\n",
    "        return self.CPopulation / self.SqMile\n",
    "\n",
    "    def Record(self):\n",
    "        self.CName = input(\"Enter the country name: \")\n",
    "        self.CPopulation = int(input(\"Enter the population: \"))\n",
    "        self.SqMile = int(input(\"Enter the Square Mile: \"))\n",
    "\n",
    "    def __str__(self):\n",
    "        return f\"{self.CName} {self.CPopulation} {self.SqMile}\"\n",
    "\n",
    "\n",
    "c = Country(\"Nepal\", 328000, 3774)\n",
    "\n",
    "density = c.Density()\n",
    "\n",
    "c.Record()\n",
    "\n",
    "print(\"The country is\", c.CName)\n",
    "print(\"The Population is \", c.CPopulation)\n",
    "print(\"The squareMile is \", c.SqMile)\n",
    "print(\"The density is \", c.Density())\n",
    "\n",
    "\n",
    "\n",
    "\n",
    "\n",
    "        "
   ]
  },
  {
   "cell_type": "markdown",
   "id": "dd9f638e",
   "metadata": {},
   "source": [
    "# Question number 2\n"
   ]
  },
  {
   "cell_type": "code",
   "execution_count": 2,
   "id": "852344c1",
   "metadata": {},
   "outputs": [
    {
     "name": "stdout",
     "output_type": "stream",
     "text": [
      "The area of the Rectangle is  120\n"
     ]
    }
   ],
   "source": [
    "class Rectangle():\n",
    "    def __init__(self, length, width):\n",
    "        self.length = length\n",
    "        self.width = width\n",
    "    \n",
    "    def rectangle_area(self):\n",
    "        return self.length*self.width\n",
    "\n",
    "\n",
    "newRectangle = Rectangle(12,10)\n",
    "area = newRectangle.rectangle_area()\n",
    "\n",
    "\n",
    "print(\"The area of the Rectangle is \", newRectangle.rectangle_area())\n"
   ]
  },
  {
   "cell_type": "markdown",
   "id": "5bf37bd1",
   "metadata": {},
   "source": [
    "# Question number 3"
   ]
  },
  {
   "cell_type": "code",
   "execution_count": 5,
   "id": "19d7a6c1",
   "metadata": {},
   "outputs": [
    {
     "data": {
      "text/plain": [
       "array([0, 1, 2, 3, 4, 5, 6, 7, 8, 9])"
      ]
     },
     "execution_count": 5,
     "metadata": {},
     "output_type": "execute_result"
    }
   ],
   "source": [
    "import numpy as np\n",
    "\n",
    "A = np.arange(10)\n",
    "A\n",
    "\n",
    "\n",
    "\n"
   ]
  },
  {
   "cell_type": "markdown",
   "id": "ddedce93",
   "metadata": {},
   "source": [
    "#### Question 3 a)"
   ]
  },
  {
   "cell_type": "code",
   "execution_count": 6,
   "id": "6ab27b9c",
   "metadata": {},
   "outputs": [
    {
     "data": {
      "text/plain": [
       "array([9, 8, 7, 6, 5, 4, 3, 2, 1, 0])"
      ]
     },
     "execution_count": 6,
     "metadata": {},
     "output_type": "execute_result"
    }
   ],
   "source": [
    "A[::-1]"
   ]
  },
  {
   "cell_type": "markdown",
   "id": "6fd782a2",
   "metadata": {},
   "source": [
    "#### Question 3 b)"
   ]
  },
  {
   "cell_type": "code",
   "execution_count": 7,
   "id": "bf8e65d3",
   "metadata": {},
   "outputs": [
    {
     "data": {
      "text/plain": [
       "9"
      ]
     },
     "execution_count": 7,
     "metadata": {},
     "output_type": "execute_result"
    }
   ],
   "source": [
    "A[-1]"
   ]
  },
  {
   "cell_type": "markdown",
   "id": "7f7a0715",
   "metadata": {},
   "source": [
    "#### Question 3 c)"
   ]
  },
  {
   "cell_type": "code",
   "execution_count": 8,
   "id": "a8b43697",
   "metadata": {},
   "outputs": [
    {
     "data": {
      "text/plain": [
       "array([0, 2, 4, 6, 8])"
      ]
     },
     "execution_count": 8,
     "metadata": {},
     "output_type": "execute_result"
    }
   ],
   "source": [
    "A[::2]"
   ]
  },
  {
   "cell_type": "markdown",
   "id": "65cf1349",
   "metadata": {},
   "source": [
    "# Question 4"
   ]
  },
  {
   "cell_type": "code",
   "execution_count": 9,
   "id": "5b921a8d",
   "metadata": {},
   "outputs": [
    {
     "name": "stdout",
     "output_type": "stream",
     "text": [
      "First and second columns:\n",
      " [[0 1]\n",
      " [4 5]\n",
      " [8 9]]\n",
      "First and second rows:\n",
      " [[0 1 2 3]\n",
      " [4 5 6 7]]\n",
      "Extracted array:\n",
      " [[ 6  7]\n",
      " [10 11]]\n"
     ]
    }
   ],
   "source": [
    "B = np.arange(0, 12).reshape(3,4)\n",
    "\n",
    "# (a) extract first and second columns\n",
    "first_second_cols = B[:, :2]\n",
    "print(\"First and second columns:\\n\", first_second_cols)\n",
    "\n",
    "# (b) extract first and second rows\n",
    "first_second_rows = B[:2, :]\n",
    "print(\"First and second rows:\\n\", first_second_rows)\n",
    "\n",
    "# (c) extract specific array from B\n",
    "specific_array = B[1:, 2:]\n",
    "print(\"Extracted array:\\n\", specific_array)\n",
    "\n"
   ]
  },
  {
   "cell_type": "markdown",
   "id": "6c68778e",
   "metadata": {},
   "source": [
    "# Question number 5 "
   ]
  },
  {
   "cell_type": "markdown",
   "id": "dfaece4d",
   "metadata": {},
   "source": [
    "#### Question 5 a)"
   ]
  },
  {
   "cell_type": "markdown",
   "id": "4441cb7a",
   "metadata": {},
   "source": [
    "The output of A:\n",
    "    \n",
    "    array([[[0, 1]],\n",
    "            [[2, 3]],\n",
    "            [[4, 5]],\n",
    "            [[6, 7]]])\n",
    "    \n",
    "The output of B:\n",
    "    \n",
    "        array([[[0],\n",
    "                [1]],\n",
    "                [[2],\n",
    "                [3]],\n",
    "                [[4],\n",
    "                [5]],\n",
    "                [[6],\n",
    "                [7]]])\n"
   ]
  },
  {
   "cell_type": "markdown",
   "id": "40c8bc25",
   "metadata": {},
   "source": [
    "#### Question 5 b)"
   ]
  },
  {
   "cell_type": "markdown",
   "id": "a0517b2b",
   "metadata": {},
   "source": [
    "Here, A and B have cannot be directly added because they have different dimensions. Both of them need to undergo \n",
    "Broadcasting i.e. 1 is added to each of the missing dimension and missing elements are filled\n",
    "with duplicates of the values contained in extended sizes.\n",
    "\n",
    "After Broadcasting, A:\n",
    "\n",
    "array(\n",
    "        [[\n",
    "        \n",
    "        [0, 1],\n",
    "        [0, 1]],\n",
    "        \n",
    "        [[2, 3],\n",
    "        [2, 3]],\n",
    "        \n",
    "        [[4, 5],\n",
    "        [4, 5]],\n",
    "        \n",
    "        [[6, 7],\n",
    "        [6, 7]\n",
    "        \n",
    "        ]]\n",
    "        \n",
    "        )\n",
    "\n",
    "After Broadcasting, B:\n",
    "    \n",
    "array([[\n",
    "\n",
    "        [0, 0],\n",
    "        [1, 1]],\n",
    "        \n",
    "        [[2, 2],\n",
    "        [3, 3]],\n",
    "        \n",
    "        [[4, 4],\n",
    "        [5, 5]],\n",
    "        \n",
    "        [[6, 6],\n",
    "        [7, 7]\n",
    "        \n",
    "        ]])\n",
    "\n",
    "Now, the corresponding elements of A and B are added. \n",
    "The output of A + B:\n",
    "    \n",
    "array(\n",
    "        [[\n",
    "        \n",
    "        [ 0, 1],\n",
    "        [ 1, 2]],\n",
    "        \n",
    "        [[ 4, 5],\n",
    "        [ 5, 6]],\n",
    "        \n",
    "        [[ 8, 9],\n",
    "        [ 9, 10]],\n",
    "        \n",
    "        [[12, 13],\n",
    "        [13, 14]\n",
    "        \n",
    "        ]])"
   ]
  },
  {
   "cell_type": "markdown",
   "id": "b9262345",
   "metadata": {},
   "source": [
    "#### Question 5 c)"
   ]
  },
  {
   "cell_type": "markdown",
   "id": "d4f425fc",
   "metadata": {},
   "source": [
    "As I have mentioned it before, A and B undergo Broadcasting then they are subtracted.\n",
    "\n",
    "The output of A - B:\n",
    "    \n",
    "array([[\n",
    "        \n",
    "        [ 0, 1],\n",
    "        [-1, 0]],\n",
    "        \n",
    "        [[ 0, 1],\n",
    "        [-1, 0]],\n",
    "        \n",
    "        [[ 0, 1],\n",
    "        [-1, 0]],\n",
    "        \n",
    "        [[ 0, 1],\n",
    "        [-1, 0]]]\n",
    "        \n",
    "       )\n"
   ]
  },
  {
   "cell_type": "markdown",
   "id": "33e2edb5",
   "metadata": {},
   "source": [
    "#### Question 5 d)"
   ]
  },
  {
   "cell_type": "markdown",
   "id": "68c59f22",
   "metadata": {},
   "source": [
    "The output of A * B:\n",
    "array([[\n",
    "        \n",
    "        [ 0, 0],\n",
    "        [ 0, 1]],\n",
    "        \n",
    "        [[ 4, 6],\n",
    "        [ 6, 9]],\n",
    "        \n",
    "        [[16, 20],\n",
    "        [20, 25]],\n",
    "        \n",
    "        [[36, 42],\n",
    "        [42, 49]]])\n",
    "\n",
    "As mentioned earlier, both A and B undergo Broadcasting."
   ]
  }
 ],
 "metadata": {
  "kernelspec": {
   "display_name": "Python 3 (ipykernel)",
   "language": "python",
   "name": "python3"
  },
  "language_info": {
   "codemirror_mode": {
    "name": "ipython",
    "version": 3
   },
   "file_extension": ".py",
   "mimetype": "text/x-python",
   "name": "python",
   "nbconvert_exporter": "python",
   "pygments_lexer": "ipython3",
   "version": "3.9.13"
  }
 },
 "nbformat": 4,
 "nbformat_minor": 5
}
